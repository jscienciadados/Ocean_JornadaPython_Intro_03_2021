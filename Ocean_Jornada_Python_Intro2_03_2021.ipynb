{
  "nbformat": 4,
  "nbformat_minor": 0,
  "metadata": {
    "colab": {
      "name": "Ocean_Jornada_Python_Intro2_03_2021.ipynb",
      "provenance": [],
      "collapsed_sections": [],
      "authorship_tag": "ABX9TyMiFuuoitbF926m0SKqTPvL",
      "include_colab_link": true
    },
    "kernelspec": {
      "name": "python3",
      "display_name": "Python 3"
    }
  },
  "cells": [
    {
      "cell_type": "markdown",
      "metadata": {
        "id": "view-in-github",
        "colab_type": "text"
      },
      "source": [
        "<a href=\"https://colab.research.google.com/github/paulosalvatore/Ocean_JornadaPython_Intro_03_2021/blob/main/Ocean_Jornada_Python_Intro2_03_2021.ipynb\" target=\"_parent\"><img src=\"https://colab.research.google.com/assets/colab-badge.svg\" alt=\"Open In Colab\"/></a>"
      ]
    },
    {
      "cell_type": "markdown",
      "metadata": {
        "id": "6PndkQMsEKEq"
      },
      "source": [
        "## Exercício 2 - Input de Informações\r\n",
        "\r\n",
        "Objetivo: Receber dados do usuário, trabalhar com os valores e exibir para o usuário.\r\n",
        "\r\n",
        "Dificuldade: Principiante\r\n",
        "\r\n",
        "1 - Crie um programa que receba do usuário seu nome, idade e gênero;\r\n",
        "\r\n",
        "2 - Exiba na tela seguinte mensagem: \"Olá, {nome}, você possui {idade} anos de idade e é do gênero {genero}.\";\r\n",
        "\r\n",
        "3 - Exiba também: \"Já pensou no que você fará no seu aniversário de {idade + 1} anos?\".\r\n",
        "\r\n",
        "Adicionando uma pimentinha extra: \"Se o usuário digitar idade 1, exiba apenas \"ano\" em vez de \"anos\". \"\"\""
      ]
    },
    {
      "cell_type": "code",
      "metadata": {
        "colab": {
          "base_uri": "https://localhost:8080/"
        },
        "id": "tQp8PHxNAuWb",
        "outputId": "3156c38b-74c6-4274-ca4e-878260376e9b"
      },
      "source": [
        "nome = input(\"Qual o seu nome? \")\r\n",
        "idade = int(input(\"Quantos anos você tem? \"))\r\n",
        "genero = input(\"Informe o seu gênero: \")\r\n",
        "\r\n",
        "print(nome, idade, genero)\r\n",
        "\r\n",
        "print(f\"Olá, {nome}, você possui {idade} anos de idade e é do gênero {genero}.\")\r\n",
        "\r\n",
        "print(f\"Já pensou no que você fará no seu aniversário de {idade + 1} anos?\")"
      ],
      "execution_count": 26,
      "outputs": [
        {
          "output_type": "stream",
          "text": [
            "Qual o seu nome? Paulo\n",
            "Quantos anos você tem? 5\n",
            "Informe o seu gênero: Masculino\n",
            "Paulo 5 Masculino\n",
            "Olá, Paulo, você possui 5 anos de idade e é do gênero Masculino.\n",
            "Já pensou no que você fará no seu aniversário de 6 anos?\n"
          ],
          "name": "stdout"
        }
      ]
    },
    {
      "cell_type": "code",
      "metadata": {
        "colab": {
          "base_uri": "https://localhost:8080/"
        },
        "id": "HGixIl-8JiLn",
        "outputId": "3a8d1ae1-f038-4b4e-b679-e8f163f5e167"
      },
      "source": [
        "# Exemplo com a \"pimentinha extra\" resolvida\r\n",
        "\r\n",
        "nome = input(\"Qual o seu nome? \")\r\n",
        "idade = int(input(\"Quantos anos você tem? \"))\r\n",
        "genero = input(\"Informe o seu gênero: \")\r\n",
        "\r\n",
        "print(nome, idade, genero)\r\n",
        "\r\n",
        "print(f\"Olá, {nome}, você possui {idade} anos de idade e é do gênero {genero}.\")\r\n",
        "\r\n",
        "exibicao_anos = \"\"\r\n",
        "\r\n",
        "if idade > 1:\r\n",
        "  exibicao_anos = \"anos\"\r\n",
        "else:\r\n",
        "  exibicao_anos = \"ano\"\r\n",
        "\r\n",
        "print(f\"Já pensou no que você fará no seu aniversário de {idade + 1} {exibicao_anos}?\")"
      ],
      "execution_count": 28,
      "outputs": [
        {
          "output_type": "stream",
          "text": [
            "Qual o seu nome? Paulo\n",
            "Quantos anos você tem? 0\n",
            "Informe o seu gênero: Masculino\n",
            "Paulo 0 Masculino\n",
            "Olá, Paulo, você possui 0 anos de idade e é do gênero Masculino.\n",
            "Já pensou no que você fará no seu aniversário de 1 ano?\n"
          ],
          "name": "stdout"
        }
      ]
    }
  ]
}