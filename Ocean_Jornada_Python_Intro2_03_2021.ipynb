{
  "nbformat": 4,
  "nbformat_minor": 0,
  "metadata": {
    "colab": {
      "name": "Ocean_Jornada_Python_Intro2_03_2021.ipynb",
      "provenance": [],
      "collapsed_sections": [],
      "authorship_tag": "ABX9TyOTU4rx/mTx0G28nHBBxGic",
      "include_colab_link": true
    },
    "kernelspec": {
      "name": "python3",
      "display_name": "Python 3"
    }
  },
  "cells": [
    {
      "cell_type": "markdown",
      "metadata": {
        "id": "view-in-github",
        "colab_type": "text"
      },
      "source": [
        "<a href=\"https://colab.research.google.com/github/paulosalvatore/Ocean_JornadaPython_Intro_03_2021/blob/main/Ocean_Jornada_Python_Intro2_03_2021.ipynb\" target=\"_parent\"><img src=\"https://colab.research.google.com/assets/colab-badge.svg\" alt=\"Open In Colab\"/></a>"
      ]
    },
    {
      "cell_type": "markdown",
      "metadata": {
        "id": "6PndkQMsEKEq"
      },
      "source": [
        "## Exercício 2 - Input de Informações\r\n",
        "\r\n",
        "Objetivo: Receber dados do usuário, trabalhar com os valores e exibir para o usuário.\r\n",
        "\r\n",
        "Dificuldade: Principiante\r\n",
        "\r\n",
        "1 - Crie um programa que receba do usuário seu nome, idade e gênero;\r\n",
        "\r\n",
        "2 - Exiba na tela seguinte mensagem: \"Olá, {nome}, você possui {idade} anos de idade e é do gênero {genero}.\";\r\n",
        "\r\n",
        "3 - Exiba também: \"Já pensou no que você fará no seu aniversário de {idade + 1} anos?\".\r\n",
        "\r\n",
        "Adicionando uma pimentinha extra: \"Se o usuário digitar idade 1, exiba apenas \"ano\" em vez de \"anos\". \"\"\""
      ]
    },
    {
      "cell_type": "code",
      "metadata": {
        "colab": {
          "base_uri": "https://localhost:8080/"
        },
        "id": "tQp8PHxNAuWb",
        "outputId": "3156c38b-74c6-4274-ca4e-878260376e9b"
      },
      "source": [
        "nome = input(\"Qual o seu nome? \")\r\n",
        "idade = int(input(\"Quantos anos você tem? \"))\r\n",
        "genero = input(\"Informe o seu gênero: \")\r\n",
        "\r\n",
        "print(nome, idade, genero)\r\n",
        "\r\n",
        "print(f\"Olá, {nome}, você possui {idade} anos de idade e é do gênero {genero}.\")\r\n",
        "\r\n",
        "print(f\"Já pensou no que você fará no seu aniversário de {idade + 1} anos?\")"
      ],
      "execution_count": 26,
      "outputs": [
        {
          "output_type": "stream",
          "text": [
            "Qual o seu nome? Paulo\n",
            "Quantos anos você tem? 5\n",
            "Informe o seu gênero: Masculino\n",
            "Paulo 5 Masculino\n",
            "Olá, Paulo, você possui 5 anos de idade e é do gênero Masculino.\n",
            "Já pensou no que você fará no seu aniversário de 6 anos?\n"
          ],
          "name": "stdout"
        }
      ]
    },
    {
      "cell_type": "code",
      "metadata": {
        "colab": {
          "base_uri": "https://localhost:8080/"
        },
        "id": "HGixIl-8JiLn",
        "outputId": "e925460d-3284-48e6-dd42-6bbbcd5461a3"
      },
      "source": [
        "# Exemplo com a \"pimentinha extra\" resolvida\r\n",
        "\r\n",
        "nome = input(\"Qual o seu nome? \")\r\n",
        "idade = int(input(\"Quantos anos você tem? \"))\r\n",
        "genero = input(\"Informe o seu gênero: \")\r\n",
        "\r\n",
        "print(nome, idade, genero)\r\n",
        "\r\n",
        "exibicao_anos = \"\"\r\n",
        "\r\n",
        "if idade != 1:\r\n",
        "  exibicao_anos = \"anos\"\r\n",
        "else:\r\n",
        "  exibicao_anos = \"ano\"\r\n",
        "\r\n",
        "print(f\"Olá, {nome}, você possui {idade} {exibicao_anos} de idade e é do gênero {genero}.\")\r\n",
        "\r\n",
        "exibicao_anos = \"\"\r\n",
        "\r\n",
        "if idade + 1 != 1:\r\n",
        "  exibicao_anos = \"anos\"\r\n",
        "else:\r\n",
        "  exibicao_anos = \"ano\"\r\n",
        "\r\n",
        "print(f\"Já pensou no que você fará no seu aniversário de {idade + 1} {exibicao_anos}?\")"
      ],
      "execution_count": 40,
      "outputs": [
        {
          "output_type": "stream",
          "text": [
            "Qual o seu nome? Paulo\n",
            "Quantos anos você tem? 0\n",
            "Informe o seu gênero: M\n",
            "Paulo 0 M\n",
            "Olá, Paulo, você possui 0 anos de idade e é do gênero M.\n",
            "Já pensou no que você fará no seu aniversário de 1 ano?\n"
          ],
          "name": "stdout"
        }
      ]
    },
    {
      "cell_type": "code",
      "metadata": {
        "colab": {
          "base_uri": "https://localhost:8080/"
        },
        "id": "Syfr4dVqLQqr",
        "outputId": "eca0425f-f037-4cf9-916c-d0c084c54c5b"
      },
      "source": [
        "# Introduzindo um pouco a utilidade das FUNÇÕES\r\n",
        "\r\n",
        "def formatar_exibicao_anos(valor):\r\n",
        "  if valor != 1:\r\n",
        "    return \"anos\"\r\n",
        "  else:\r\n",
        "    return \"ano\"\r\n",
        "\r\n",
        "\r\n",
        "# Exemplo com a \"pimentinha extra\" resolvida\r\n",
        "\r\n",
        "nome = input(\"Qual o seu nome? \")\r\n",
        "idade = int(input(\"Quantos anos você tem? \"))\r\n",
        "genero = input(\"Informe o seu gênero: \")\r\n",
        "\r\n",
        "print(nome, idade, genero)\r\n",
        "\r\n",
        "print(f\"Olá, {nome}, você possui {idade} {formatar_exibicao_anos(idade)} de idade e é do gênero {genero}.\")\r\n",
        "\r\n",
        "aniversario = idade + 1\r\n",
        "\r\n",
        "print(f\"Já pensou no que você fará no seu aniversário de {aniversario} {formatar_exibicao_anos(aniversario)}?\")"
      ],
      "execution_count": 49,
      "outputs": [
        {
          "output_type": "stream",
          "text": [
            "Qual o seu nome? Paulo\n",
            "Quantos anos você tem? 0\n",
            "Informe o seu gênero: M\n",
            "Paulo 0 M\n",
            "Olá, Paulo, você possui 0 anos de idade e é do gênero M.\n",
            "Já pensou no que você fará no seu aniversário de 1 ano?\n"
          ],
          "name": "stdout"
        }
      ]
    },
    {
      "cell_type": "code",
      "metadata": {
        "colab": {
          "base_uri": "https://localhost:8080/"
        },
        "id": "RNqNzPo0KTIk",
        "outputId": "e9a1d0a1-4184-4087-c234-85e166c1cb04"
      },
      "source": [
        "genero = \"Masculino\"\r\n",
        "\r\n",
        "print(\"Sem formatação:\", genero)\r\n",
        "\r\n",
        "print(\"Capitalize:\", genero.capitalize())\r\n",
        "\r\n",
        "print(\"Upper case:\", genero.upper())\r\n",
        "\r\n",
        "print(\"Lower case:\", genero.lower())\r\n",
        "\r\n",
        "print()\r\n",
        "\r\n",
        "if genero.lower() == \"masculino\":\r\n",
        "  print(f\"Esse if será lido\")\r\n",
        "else:\r\n",
        "  print(\"Esse if não foi lido\")"
      ],
      "execution_count": 44,
      "outputs": [
        {
          "output_type": "stream",
          "text": [
            "Sem formatação: Masculino\n",
            "Capitalize: Masculino\n",
            "Upper case: MASCULINO\n",
            "Lower case: masculino\n",
            "\n",
            "Esse \n",
            " if será lido\n"
          ],
          "name": "stdout"
        }
      ]
    },
    {
      "cell_type": "code",
      "metadata": {
        "colab": {
          "base_uri": "https://localhost:8080/"
        },
        "id": "hjfm5OICL89m",
        "outputId": "2ba711b4-54e7-4827-d378-30da7fd77ea5"
      },
      "source": [
        "idade = 5 # int\r\n",
        "outra_idade = \"5\" # str\r\n",
        "nova_idade = input(\"Idade: \") # str\r\n",
        "\r\n",
        "outra_idade_transformada = int(outra_idade)\r\n",
        "\r\n",
        "nova_idade_transformada = int(nova_idade)\r\n",
        "\r\n",
        "print()\r\n",
        "\r\n",
        "print(idade, type(idade))\r\n",
        "print()\r\n",
        "\r\n",
        "print(outra_idade, type(outra_idade))\r\n",
        "print(outra_idade_transformada, type(outra_idade_transformada))\r\n",
        "print()\r\n",
        "\r\n",
        "print(nova_idade, type(nova_idade))\r\n",
        "print(nova_idade_transformada, type(nova_idade_transformada))"
      ],
      "execution_count": 48,
      "outputs": [
        {
          "output_type": "stream",
          "text": [
            "Idade: 5\n",
            "5 <class 'int'>\n",
            "\n",
            "5 <class 'str'>\n",
            "5 <class 'int'>\n",
            "\n",
            "5 <class 'str'>\n",
            "5 <class 'int'>\n"
          ],
          "name": "stdout"
        }
      ]
    }
  ]
}