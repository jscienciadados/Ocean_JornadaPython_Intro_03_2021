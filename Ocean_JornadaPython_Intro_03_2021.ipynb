{
  "nbformat": 4,
  "nbformat_minor": 0,
  "metadata": {
    "colab": {
      "name": "Ocean_JornadaPython_Intro_03_2021.ipynb",
      "provenance": [],
      "collapsed_sections": [],
      "authorship_tag": "ABX9TyN0QgWsyiUmybmYR6sHHDjy",
      "include_colab_link": true
    },
    "kernelspec": {
      "name": "python3",
      "display_name": "Python 3"
    }
  },
  "cells": [
    {
      "cell_type": "markdown",
      "metadata": {
        "id": "view-in-github",
        "colab_type": "text"
      },
      "source": [
        "<a href=\"https://colab.research.google.com/github/paulosalvatore/Ocean_JornadaPython_Intro_03_2021/blob/main/Ocean_JornadaPython_Intro_03_2021.ipynb\" target=\"_parent\"><img src=\"https://colab.research.google.com/assets/colab-badge.svg\" alt=\"Open In Colab\"/></a>"
      ]
    },
    {
      "cell_type": "code",
      "metadata": {
        "colab": {
          "base_uri": "https://localhost:8080/"
        },
        "id": "AnlbeQkG-8O6",
        "outputId": "1959796c-beca-41dc-8a66-beb61a05c6a9"
      },
      "source": [
        "print(\"Olá, mundo!\")"
      ],
      "execution_count": null,
      "outputs": [
        {
          "output_type": "stream",
          "text": [
            "Olá, mundo!\n"
          ],
          "name": "stdout"
        }
      ]
    },
    {
      "cell_type": "code",
      "metadata": {
        "id": "YUcFj2lq_36k"
      },
      "source": [
        "nome = \"Paulo Salvatore\""
      ],
      "execution_count": null,
      "outputs": []
    },
    {
      "cell_type": "code",
      "metadata": {
        "colab": {
          "base_uri": "https://localhost:8080/"
        },
        "id": "GxiCvG_qAYH_",
        "outputId": "b3f6e98a-cee0-4a27-ae69-4c1b26008779"
      },
      "source": [
        "print(nome)"
      ],
      "execution_count": null,
      "outputs": [
        {
          "output_type": "stream",
          "text": [
            "Salvatore\n"
          ],
          "name": "stdout"
        }
      ]
    },
    {
      "cell_type": "code",
      "metadata": {
        "colab": {
          "base_uri": "https://localhost:8080/"
        },
        "id": "MSsbm1meBCrw",
        "outputId": "0462406d-5b15-478b-a1dc-ac24a831782c"
      },
      "source": [
        "nome = \"Paulo\"\r\n",
        "sobrenome = \"Sobrenome\"\r\n",
        "\r\n",
        "print(nome)\r\n",
        "print(sobrenome)"
      ],
      "execution_count": null,
      "outputs": [
        {
          "output_type": "stream",
          "text": [
            "Paulo\n",
            "Sobrenome\n"
          ],
          "name": "stdout"
        }
      ]
    },
    {
      "cell_type": "code",
      "metadata": {
        "colab": {
          "base_uri": "https://localhost:8080/"
        },
        "id": "MWGa4o7BB9iM",
        "outputId": "c0efd0df-debc-46f3-b2b9-292ddc72cada"
      },
      "source": [
        "# Declara essa informação e guarda na memória\r\n",
        "numero = 5\r\n",
        "\r\n",
        "# Depois, acessamos essa informação e fazemos algo com ela\r\n",
        "# No caso, usamos o print() para exibí-la no console\r\n",
        "print(numero)"
      ],
      "execution_count": null,
      "outputs": [
        {
          "output_type": "stream",
          "text": [
            "5\n"
          ],
          "name": "stdout"
        }
      ]
    },
    {
      "cell_type": "code",
      "metadata": {
        "colab": {
          "base_uri": "https://localhost:8080/"
        },
        "id": "CJzj8OD1CrUc",
        "outputId": "6b782ae5-3473-43e7-8d0f-9852b931ea51"
      },
      "source": [
        "numero = numero + 5\r\n",
        "\r\n",
        "print(numero)"
      ],
      "execution_count": null,
      "outputs": [
        {
          "output_type": "stream",
          "text": [
            "30\n"
          ],
          "name": "stdout"
        }
      ]
    },
    {
      "cell_type": "code",
      "metadata": {
        "colab": {
          "base_uri": "https://localhost:8080/"
        },
        "id": "qWpDbuKgC8tS",
        "outputId": "a7df105f-c97c-4bf0-ab06-fa460146c568"
      },
      "source": [
        "print(numero + 5)"
      ],
      "execution_count": null,
      "outputs": [
        {
          "output_type": "stream",
          "text": [
            "35\n"
          ],
          "name": "stdout"
        }
      ]
    },
    {
      "cell_type": "code",
      "metadata": {
        "id": "qSe_G_7FDfe9"
      },
      "source": [
        "# Comentários!\r\n",
        "\r\n",
        "# Pode ser uma informação que vai me ajudar a entender o que estou escrevendo\r\n",
        "\r\n",
        "# Mais\r\n",
        "# de\r\n",
        "# uma\r\n",
        "# linha\r\n",
        "\r\n",
        "\"\"\"\r\n",
        "Comentário\r\n",
        "com\r\n",
        "várias\r\n",
        "linhas\r\n",
        "\"\"\"\r\n",
        "\r\n",
        "'''\r\n",
        "Comentário\r\n",
        "com\r\n",
        "várias\r\n",
        "linhas\r\n",
        "'''"
      ],
      "execution_count": null,
      "outputs": []
    },
    {
      "cell_type": "code",
      "metadata": {
        "colab": {
          "base_uri": "https://localhost:8080/"
        },
        "id": "ZlH0yPzoD5u6",
        "outputId": "72147f3e-b2ce-45b2-9906-09a9a988a649"
      },
      "source": [
        "numero = 5 # Número inteiro: int\r\n",
        "numero_decimal = 5.5 # Número decimal: float\r\n",
        "texto = \"Paulo\" # Texto: string\r\n",
        "maior_idade = True # Booleano: bool\r\n",
        "\r\n",
        "print(numero, type(numero))\r\n",
        "print(numero_decimal, type(numero_decimal))\r\n",
        "print(texto, type(texto))\r\n",
        "print(maior_idade, type(maior_idade))"
      ],
      "execution_count": null,
      "outputs": [
        {
          "output_type": "stream",
          "text": [
            "5 <class 'int'>\n",
            "5.5 <class 'float'>\n",
            "Paulo <class 'str'>\n",
            "True <class 'bool'>\n"
          ],
          "name": "stdout"
        }
      ]
    },
    {
      "cell_type": "code",
      "metadata": {
        "id": "ZvFwuGsrE_Li"
      },
      "source": [
        "\"\"\"\r\n",
        "tipo_numero = type(numero)\r\n",
        "print(tipo_numero)\r\n",
        "\r\n",
        "print(type(numero))\r\n",
        "\r\n",
        "print(5, 10, \"Texto\")\r\n",
        "\"\"\""
      ],
      "execution_count": null,
      "outputs": []
    },
    {
      "cell_type": "code",
      "metadata": {
        "colab": {
          "base_uri": "https://localhost:8080/"
        },
        "id": "dk7LxJwMFcjj",
        "outputId": "29cb0122-375e-4826-886e-d4a2f404b530"
      },
      "source": [
        "numero = 5.5\r\n",
        "\r\n",
        "print(type(numero))\r\n",
        "\r\n",
        "numero = 5\r\n",
        "\r\n",
        "print(type(numero))\r\n",
        "\r\n",
        "numero = \"Paulo\"\r\n",
        "\r\n",
        "print(type(numero))"
      ],
      "execution_count": null,
      "outputs": [
        {
          "output_type": "stream",
          "text": [
            "<class 'float'>\n",
            "<class 'int'>\n",
            "<class 'str'>\n"
          ],
          "name": "stdout"
        }
      ]
    },
    {
      "cell_type": "code",
      "metadata": {
        "colab": {
          "base_uri": "https://localhost:8080/"
        },
        "id": "MGTI2xx5GnYf",
        "outputId": "9d0dca0e-86bf-41f0-f8c0-5cef04d39085"
      },
      "source": [
        "print(5 + 5)\r\n",
        "\r\n",
        "print(\"Paulo\" + \"Salvatore\")\r\n",
        "\r\n",
        "print(\"1\" + \"5\")"
      ],
      "execution_count": null,
      "outputs": [
        {
          "output_type": "stream",
          "text": [
            "10\n",
            "PauloSalvatore\n",
            "15\n"
          ],
          "name": "stdout"
        }
      ]
    }
  ]
}