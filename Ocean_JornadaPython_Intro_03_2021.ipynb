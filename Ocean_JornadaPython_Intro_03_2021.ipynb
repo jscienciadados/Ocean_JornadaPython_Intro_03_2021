{
  "nbformat": 4,
  "nbformat_minor": 0,
  "metadata": {
    "colab": {
      "name": "Ocean_JornadaPython_Intro_03_2021.ipynb",
      "provenance": [],
      "authorship_tag": "ABX9TyMaq9gqTAlHHSnJucJMlQUQ",
      "include_colab_link": true
    },
    "kernelspec": {
      "name": "python3",
      "display_name": "Python 3"
    }
  },
  "cells": [
    {
      "cell_type": "markdown",
      "metadata": {
        "id": "view-in-github",
        "colab_type": "text"
      },
      "source": [
        "<a href=\"https://colab.research.google.com/github/paulosalvatore/Ocean_JornadaPython_Intro_03_2021/blob/main/Ocean_JornadaPython_Intro_03_2021.ipynb\" target=\"_parent\"><img src=\"https://colab.research.google.com/assets/colab-badge.svg\" alt=\"Open In Colab\"/></a>"
      ]
    },
    {
      "cell_type": "code",
      "metadata": {
        "id": "o2Y80QID8tkN"
      },
      "source": [
        ""
      ],
      "execution_count": null,
      "outputs": []
    }
  ]
}